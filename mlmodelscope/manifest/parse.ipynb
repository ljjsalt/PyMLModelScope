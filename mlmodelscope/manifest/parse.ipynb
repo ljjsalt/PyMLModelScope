{
 "cells": [
  {
   "cell_type": "code",
   "execution_count": 18,
   "metadata": {},
   "outputs": [],
   "source": [
    "import yaml\n",
    "from yaml import load, safe_load"
   ]
  },
  {
   "cell_type": "code",
   "execution_count": 20,
   "metadata": {},
   "outputs": [],
   "source": [
    "with open(\"../../example/resnet.yml\", \"r\") as stream:\n",
    "    try:\n",
    "        resnet = (safe_load(stream)) \n",
    "    except yaml.YAMLError as exc:\n",
    "        print(exc)"
   ]
  },
  {
   "cell_type": "code",
   "execution_count": 22,
   "metadata": {},
   "outputs": [
    {
     "data": {
      "text/plain": [
       "'TorchVision_AlexNet'"
      ]
     },
     "execution_count": 22,
     "metadata": {},
     "output_type": "execute_result"
    }
   ],
   "source": [
    "resnet['name']"
   ]
  }
 ],
 "metadata": {
  "interpreter": {
   "hash": "c0ee7538590c42889bafeecfd5695acf3f0b34efc163fbdb7532ccfd0f04ba36"
  },
  "kernelspec": {
   "display_name": "Python 3.8.0 ('ray')",
   "language": "python",
   "name": "python3"
  },
  "language_info": {
   "codemirror_mode": {
    "name": "ipython",
    "version": 3
   },
   "file_extension": ".py",
   "mimetype": "text/x-python",
   "name": "python",
   "nbconvert_exporter": "python",
   "pygments_lexer": "ipython3",
   "version": "3.8.0"
  },
  "orig_nbformat": 4
 },
 "nbformat": 4,
 "nbformat_minor": 2
}
